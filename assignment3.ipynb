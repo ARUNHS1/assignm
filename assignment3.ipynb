{
 "cells": [
  {
   "cell_type": "markdown",
   "metadata": {},
   "source": [
    "Q1:  Write a Python function to sum all the numbers in a list.\n",
    "\n",
    "Sample List : (8, 2, 3, 0, 7)\n",
    "Expected Output : 20\n",
    "\n",
    "Explanation:\n",
    "Summation should like 8+2+3+0+7 = 20\n"
   ]
  },
  {
   "cell_type": "code",
   "execution_count": 25,
   "metadata": {},
   "outputs": [],
   "source": [
    "from functools import reduce"
   ]
  },
  {
   "cell_type": "code",
   "execution_count": 2,
   "metadata": {},
   "outputs": [
    {
     "name": "stdout",
     "output_type": "stream",
     "text": [
      "Expected_output: 20\n"
     ]
    }
   ],
   "source": [
    "sample_list =[8,2,3,0,7]\n",
    "\n",
    "expected_output = reduce(lambda n1,n2: n1+n2,sample_list)\n",
    "\n",
    "print(\"Expected_output:\",expected_output)"
   ]
  },
  {
   "cell_type": "markdown",
   "metadata": {},
   "source": [
    "Q2: Write a Python program to reverse a string.\n",
    "\n",
    "﻿Sample String : \"1234abcd\"\n",
    "Expected Output : \"dcba4321\""
   ]
  },
  {
   "cell_type": "code",
   "execution_count": 3,
   "metadata": {},
   "outputs": [
    {
     "name": "stdout",
     "output_type": "stream",
     "text": [
      "Expected_output: dcba4321\n"
     ]
    }
   ],
   "source": [
    "sample_string = \"1234abcd\"\n",
    "\n",
    "def reversed_string(string):\n",
    "    return string[::-1]\n",
    "\n",
    "reverse_of_string = reversed_string(\"1234abcd\")\n",
    "print(\"Expected_output:\",reverse_of_string)\n",
    "      "
   ]
  },
  {
   "cell_type": "markdown",
   "metadata": {},
   "source": [
    "Q3\": Sample String : 'The quick Brow Fox'\n",
    "\n",
    "Expected Output :\n",
    "No. of Upper case characters : 3\n",
    "No. of Lower case Characters : 12"
   ]
  },
  {
   "cell_type": "code",
   "execution_count": 21,
   "metadata": {},
   "outputs": [
    {
     "name": "stdout",
     "output_type": "stream",
     "text": [
      "The number of lowercase characters is: 12\n",
      "The number of uppercase characters is: 3\n"
     ]
    }
   ],
   "source": [
    "Str='The quick Brow Fox'\n",
    "\n",
    "lower=0\n",
    "upper=0\n",
    "\n",
    "for i in Str:\n",
    "      if(i.islower()):\n",
    "            lower+=1\n",
    "      elif(i.isupper()):\n",
    "          upper +=1\n",
    "print(\"The number of lowercase characters is:\",lower)\n",
    "print(\"The number of uppercase characters is:\",upper)"
   ]
  }
 ],
 "metadata": {
  "kernelspec": {
   "display_name": "Python 3",
   "language": "python",
   "name": "python3"
  },
  "language_info": {
   "codemirror_mode": {
    "name": "ipython",
    "version": 3
   },
   "file_extension": ".py",
   "mimetype": "text/x-python",
   "name": "python",
   "nbconvert_exporter": "python",
   "pygments_lexer": "ipython3",
   "version": "3.12.0"
  }
 },
 "nbformat": 4,
 "nbformat_minor": 2
}
